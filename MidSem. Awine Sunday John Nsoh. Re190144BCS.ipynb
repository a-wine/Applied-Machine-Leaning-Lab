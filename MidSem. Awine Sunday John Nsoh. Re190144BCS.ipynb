{
 "cells": [
  {
   "cell_type": "code",
   "execution_count": 9,
   "metadata": {},
   "outputs": [],
   "source": [
    "import pandas as pd\n",
    "import numpy as np"
   ]
  },
  {
   "cell_type": "code",
   "execution_count": 10,
   "metadata": {},
   "outputs": [
    {
     "data": {
      "text/html": [
       "<div>\n",
       "<style scoped>\n",
       "    .dataframe tbody tr th:only-of-type {\n",
       "        vertical-align: middle;\n",
       "    }\n",
       "\n",
       "    .dataframe tbody tr th {\n",
       "        vertical-align: top;\n",
       "    }\n",
       "\n",
       "    .dataframe thead th {\n",
       "        text-align: right;\n",
       "    }\n",
       "</style>\n",
       "<table border=\"1\" class=\"dataframe\">\n",
       "  <thead>\n",
       "    <tr style=\"text-align: right;\">\n",
       "      <th></th>\n",
       "      <th>Gender</th>\n",
       "      <th>Height</th>\n",
       "      <th>Weight</th>\n",
       "      <th>Index</th>\n",
       "    </tr>\n",
       "  </thead>\n",
       "  <tbody>\n",
       "    <tr>\n",
       "      <th>0</th>\n",
       "      <td>Male</td>\n",
       "      <td>174.0</td>\n",
       "      <td>96.0</td>\n",
       "      <td>4</td>\n",
       "    </tr>\n",
       "    <tr>\n",
       "      <th>1</th>\n",
       "      <td>Male</td>\n",
       "      <td>189.0</td>\n",
       "      <td>87.0</td>\n",
       "      <td>2</td>\n",
       "    </tr>\n",
       "    <tr>\n",
       "      <th>2</th>\n",
       "      <td>Female</td>\n",
       "      <td>185.0</td>\n",
       "      <td>110.0</td>\n",
       "      <td>4</td>\n",
       "    </tr>\n",
       "    <tr>\n",
       "      <th>3</th>\n",
       "      <td>Female</td>\n",
       "      <td>195.0</td>\n",
       "      <td>104.0</td>\n",
       "      <td>3</td>\n",
       "    </tr>\n",
       "    <tr>\n",
       "      <th>4</th>\n",
       "      <td>Male</td>\n",
       "      <td>149.0</td>\n",
       "      <td>61.0</td>\n",
       "      <td>3</td>\n",
       "    </tr>\n",
       "  </tbody>\n",
       "</table>\n",
       "</div>"
      ],
      "text/plain": [
       "   Gender  Height  Weight  Index\n",
       "0    Male   174.0    96.0      4\n",
       "1    Male   189.0    87.0      2\n",
       "2  Female   185.0   110.0      4\n",
       "3  Female   195.0   104.0      3\n",
       "4    Male   149.0    61.0      3"
      ]
     },
     "execution_count": 10,
     "metadata": {},
     "output_type": "execute_result"
    }
   ],
   "source": [
    "data = pd.read_csv('data.csv')\n",
    "bmd = pd.DataFrame(data)\n",
    "bmd.head()"
   ]
  },
  {
   "cell_type": "code",
   "execution_count": 11,
   "metadata": {},
   "outputs": [
    {
     "name": "stdout",
     "output_type": "stream",
     "text": [
      "<class 'pandas.core.frame.DataFrame'>\n",
      "RangeIndex: 500 entries, 0 to 499\n",
      "Data columns (total 4 columns):\n",
      " #   Column  Non-Null Count  Dtype  \n",
      "---  ------  --------------  -----  \n",
      " 0   Gender  500 non-null    object \n",
      " 1   Height  498 non-null    float64\n",
      " 2   Weight  499 non-null    float64\n",
      " 3   Index   500 non-null    int64  \n",
      "dtypes: float64(2), int64(1), object(1)\n",
      "memory usage: 15.8+ KB\n"
     ]
    }
   ],
   "source": [
    "bmd.info()"
   ]
  },
  {
   "cell_type": "code",
   "execution_count": 12,
   "metadata": {},
   "outputs": [
    {
     "data": {
      "text/plain": [
       "Gender    0\n",
       "Height    2\n",
       "Weight    1\n",
       "Index     0\n",
       "dtype: int64"
      ]
     },
     "execution_count": 12,
     "metadata": {},
     "output_type": "execute_result"
    }
   ],
   "source": [
    "bmd.isna().sum()"
   ]
  },
  {
   "cell_type": "code",
   "execution_count": 13,
   "metadata": {},
   "outputs": [],
   "source": [
    "from sklearn.preprocessing import OneHotEncoder"
   ]
  },
  {
   "cell_type": "code",
   "execution_count": 14,
   "metadata": {},
   "outputs": [],
   "source": [
    "onehot = OneHotEncoder()"
   ]
  },
  {
   "cell_type": "code",
   "execution_count": 15,
   "metadata": {},
   "outputs": [
    {
     "data": {
      "text/html": [
       "<div>\n",
       "<style scoped>\n",
       "    .dataframe tbody tr th:only-of-type {\n",
       "        vertical-align: middle;\n",
       "    }\n",
       "\n",
       "    .dataframe tbody tr th {\n",
       "        vertical-align: top;\n",
       "    }\n",
       "\n",
       "    .dataframe thead th {\n",
       "        text-align: right;\n",
       "    }\n",
       "</style>\n",
       "<table border=\"1\" class=\"dataframe\">\n",
       "  <thead>\n",
       "    <tr style=\"text-align: right;\">\n",
       "      <th></th>\n",
       "      <th>Gender</th>\n",
       "      <th>Height</th>\n",
       "      <th>Weight</th>\n",
       "      <th>Index</th>\n",
       "      <th>0</th>\n",
       "      <th>1</th>\n",
       "    </tr>\n",
       "  </thead>\n",
       "  <tbody>\n",
       "    <tr>\n",
       "      <th>0</th>\n",
       "      <td>Male</td>\n",
       "      <td>174.0</td>\n",
       "      <td>96.0</td>\n",
       "      <td>4</td>\n",
       "      <td>0.0</td>\n",
       "      <td>1.0</td>\n",
       "    </tr>\n",
       "    <tr>\n",
       "      <th>1</th>\n",
       "      <td>Male</td>\n",
       "      <td>189.0</td>\n",
       "      <td>87.0</td>\n",
       "      <td>2</td>\n",
       "      <td>0.0</td>\n",
       "      <td>1.0</td>\n",
       "    </tr>\n",
       "    <tr>\n",
       "      <th>2</th>\n",
       "      <td>Female</td>\n",
       "      <td>185.0</td>\n",
       "      <td>110.0</td>\n",
       "      <td>4</td>\n",
       "      <td>1.0</td>\n",
       "      <td>0.0</td>\n",
       "    </tr>\n",
       "    <tr>\n",
       "      <th>3</th>\n",
       "      <td>Female</td>\n",
       "      <td>195.0</td>\n",
       "      <td>104.0</td>\n",
       "      <td>3</td>\n",
       "      <td>1.0</td>\n",
       "      <td>0.0</td>\n",
       "    </tr>\n",
       "    <tr>\n",
       "      <th>4</th>\n",
       "      <td>Male</td>\n",
       "      <td>149.0</td>\n",
       "      <td>61.0</td>\n",
       "      <td>3</td>\n",
       "      <td>0.0</td>\n",
       "      <td>1.0</td>\n",
       "    </tr>\n",
       "    <tr>\n",
       "      <th>...</th>\n",
       "      <td>...</td>\n",
       "      <td>...</td>\n",
       "      <td>...</td>\n",
       "      <td>...</td>\n",
       "      <td>...</td>\n",
       "      <td>...</td>\n",
       "    </tr>\n",
       "    <tr>\n",
       "      <th>495</th>\n",
       "      <td>Female</td>\n",
       "      <td>150.0</td>\n",
       "      <td>153.0</td>\n",
       "      <td>5</td>\n",
       "      <td>1.0</td>\n",
       "      <td>0.0</td>\n",
       "    </tr>\n",
       "    <tr>\n",
       "      <th>496</th>\n",
       "      <td>Female</td>\n",
       "      <td>184.0</td>\n",
       "      <td>121.0</td>\n",
       "      <td>4</td>\n",
       "      <td>1.0</td>\n",
       "      <td>0.0</td>\n",
       "    </tr>\n",
       "    <tr>\n",
       "      <th>497</th>\n",
       "      <td>Female</td>\n",
       "      <td>141.0</td>\n",
       "      <td>136.0</td>\n",
       "      <td>5</td>\n",
       "      <td>1.0</td>\n",
       "      <td>0.0</td>\n",
       "    </tr>\n",
       "    <tr>\n",
       "      <th>498</th>\n",
       "      <td>Male</td>\n",
       "      <td>150.0</td>\n",
       "      <td>95.0</td>\n",
       "      <td>5</td>\n",
       "      <td>0.0</td>\n",
       "      <td>1.0</td>\n",
       "    </tr>\n",
       "    <tr>\n",
       "      <th>499</th>\n",
       "      <td>Male</td>\n",
       "      <td>173.0</td>\n",
       "      <td>131.0</td>\n",
       "      <td>5</td>\n",
       "      <td>0.0</td>\n",
       "      <td>1.0</td>\n",
       "    </tr>\n",
       "  </tbody>\n",
       "</table>\n",
       "<p>500 rows × 6 columns</p>\n",
       "</div>"
      ],
      "text/plain": [
       "     Gender  Height  Weight  Index    0    1\n",
       "0      Male   174.0    96.0      4  0.0  1.0\n",
       "1      Male   189.0    87.0      2  0.0  1.0\n",
       "2    Female   185.0   110.0      4  1.0  0.0\n",
       "3    Female   195.0   104.0      3  1.0  0.0\n",
       "4      Male   149.0    61.0      3  0.0  1.0\n",
       "..      ...     ...     ...    ...  ...  ...\n",
       "495  Female   150.0   153.0      5  1.0  0.0\n",
       "496  Female   184.0   121.0      4  1.0  0.0\n",
       "497  Female   141.0   136.0      5  1.0  0.0\n",
       "498    Male   150.0    95.0      5  0.0  1.0\n",
       "499    Male   173.0   131.0      5  0.0  1.0\n",
       "\n",
       "[500 rows x 6 columns]"
      ]
     },
     "execution_count": 15,
     "metadata": {},
     "output_type": "execute_result"
    }
   ],
   "source": [
    "con_data = onehot.fit_transform(bmd[[\"Gender\"]]).toarray()\n",
    "con_dataFrame=pd.DataFrame(con_data)\n",
    "\n",
    "bmd_new = pd.concat([data,con_dataFrame],axis = 1)\n",
    "bmd_new"
   ]
  },
  {
   "cell_type": "code",
   "execution_count": 16,
   "metadata": {},
   "outputs": [],
   "source": [
    "X = data.loc[:,[\"Height\",\"Weight\"]]\n",
    "y = data['Index']"
   ]
  },
  {
   "cell_type": "code",
   "execution_count": 17,
   "metadata": {},
   "outputs": [],
   "source": [
    "from sklearn.model_selection import train_test_split\n",
    "train_X, test_X, train_y, test_y = train_test_split(X,y,train_size=0.5, random_state=1)\n"
   ]
  },
  {
   "cell_type": "code",
   "execution_count": 18,
   "metadata": {},
   "outputs": [],
   "source": [
    "from sklearn.impute import SimpleImputer \n",
    "mean_imputer = SimpleImputer(missing_values=np.nan, strategy='mean')"
   ]
  },
  {
   "cell_type": "code",
   "execution_count": 19,
   "metadata": {},
   "outputs": [
    {
     "data": {
      "text/plain": [
       "SimpleImputer(add_indicator=False, copy=True, fill_value=None,\n",
       "              missing_values=nan, strategy='mean', verbose=0)"
      ]
     },
     "execution_count": 19,
     "metadata": {},
     "output_type": "execute_result"
    }
   ],
   "source": [
    "mean_imputer.fit(train_X)\n",
    "mean_imputer.fit(test_X)"
   ]
  },
  {
   "cell_type": "code",
   "execution_count": 20,
   "metadata": {},
   "outputs": [],
   "source": [
    "a=mean_imputer.transform(train_X)\n",
    "b=mean_imputer.transform(test_X)"
   ]
  },
  {
   "cell_type": "code",
   "execution_count": 21,
   "metadata": {},
   "outputs": [],
   "source": [
    "c=pd.DataFrame(a)\n",
    "d=pd.DataFrame(b)"
   ]
  },
  {
   "cell_type": "code",
   "execution_count": 22,
   "metadata": {},
   "outputs": [],
   "source": [
    "from sklearn.linear_model import LogisticRegression"
   ]
  },
  {
   "cell_type": "code",
   "execution_count": 23,
   "metadata": {},
   "outputs": [
    {
     "name": "stderr",
     "output_type": "stream",
     "text": [
      "C:\\ProgramData\\Anaconda3\\lib\\site-packages\\sklearn\\linear_model\\_logistic.py:940: ConvergenceWarning: lbfgs failed to converge (status=1):\n",
      "STOP: TOTAL NO. of ITERATIONS REACHED LIMIT.\n",
      "\n",
      "Increase the number of iterations (max_iter) or scale the data as shown in:\n",
      "    https://scikit-learn.org/stable/modules/preprocessing.html\n",
      "Please also refer to the documentation for alternative solver options:\n",
      "    https://scikit-learn.org/stable/modules/linear_model.html#logistic-regression\n",
      "  extra_warning_msg=_LOGISTIC_SOLVER_CONVERGENCE_MSG)\n"
     ]
    },
    {
     "data": {
      "text/plain": [
       "LogisticRegression(C=0.01, class_weight=None, dual=False, fit_intercept=True,\n",
       "                   intercept_scaling=1, l1_ratio=None, max_iter=100,\n",
       "                   multi_class='auto', n_jobs=None, penalty='l2',\n",
       "                   random_state=None, solver='lbfgs', tol=0.0001, verbose=0,\n",
       "                   warm_start=False)"
      ]
     },
     "execution_count": 23,
     "metadata": {},
     "output_type": "execute_result"
    }
   ],
   "source": [
    "lr=LogisticRegression(penalty=\"l2\", C= .01)\n",
    "lr.fit(c,train_y)"
   ]
  },
  {
   "cell_type": "code",
   "execution_count": 24,
   "metadata": {},
   "outputs": [
    {
     "data": {
      "text/plain": [
       "array([5, 3, 4, 2, 5, 4, 5, 1, 4, 5, 4, 2, 5, 4, 4, 4, 2, 4, 5, 4, 3, 5,\n",
       "       5, 0, 5, 4, 5, 4, 4, 4, 4, 5, 3, 5, 4, 5, 2, 2, 4, 4, 3, 2, 5, 5,\n",
       "       5, 4, 5, 5, 2, 5, 4, 1, 4, 2, 5, 1, 2, 5, 5, 3, 2, 0, 5, 4, 2, 5,\n",
       "       2, 5, 5, 4, 5, 3, 5, 5, 5, 5, 5, 2, 3, 5, 4, 5, 3, 4, 2, 5, 5, 5,\n",
       "       5, 5, 2, 5, 2, 4, 5, 3, 4, 4, 5, 3, 2, 2, 5, 2, 5, 5, 3, 5, 4, 4,\n",
       "       4, 2, 4, 4, 4, 3, 5, 5, 4, 5, 4, 5, 4, 3, 5, 3, 4, 5, 3, 4, 4, 2,\n",
       "       3, 5, 2, 2, 4, 2, 5, 5, 5, 5, 3, 4, 5, 3, 4, 5, 5, 5, 2, 5, 3, 2,\n",
       "       2, 5, 2, 5, 2, 2, 0, 3, 4, 4, 5, 5, 4, 4, 4, 5, 2, 5, 2, 2, 3, 5,\n",
       "       2, 5, 5, 4, 5, 2, 4, 4, 2, 3, 4, 4, 4, 5, 1, 5, 5, 2, 5, 5, 5, 5,\n",
       "       5, 5, 2, 5, 3, 3, 4, 2, 2, 5, 5, 4, 4, 2, 5, 5, 5, 5, 5, 2, 5, 4,\n",
       "       5, 5, 3, 4, 2, 4, 3, 4, 4, 5, 2, 2, 4, 4, 2, 5, 0, 5, 2, 5, 4, 4,\n",
       "       4, 5, 5, 5, 4, 2, 5, 2], dtype=int64)"
      ]
     },
     "execution_count": 24,
     "metadata": {},
     "output_type": "execute_result"
    }
   ],
   "source": [
    "lr.predict(d)"
   ]
  },
  {
   "cell_type": "code",
   "execution_count": 25,
   "metadata": {},
   "outputs": [
    {
     "data": {
      "text/plain": [
       "0.692"
      ]
     },
     "execution_count": 25,
     "metadata": {},
     "output_type": "execute_result"
    }
   ],
   "source": [
    "lr.score(d, test_y)"
   ]
  },
  {
   "cell_type": "code",
   "execution_count": 48,
   "metadata": {},
   "outputs": [],
   "source": [
    "from sklearn.neighbors import KNeighborsClassifier\n",
    "knn = KNeighborsClassifier(n_neighbors = 5)"
   ]
  },
  {
   "cell_type": "code",
   "execution_count": 49,
   "metadata": {},
   "outputs": [
    {
     "data": {
      "text/plain": [
       "SimpleImputer(add_indicator=False, copy=True, fill_value=None,\n",
       "              missing_values=nan, strategy='mean', verbose=0)"
      ]
     },
     "execution_count": 49,
     "metadata": {},
     "output_type": "execute_result"
    }
   ],
   "source": [
    "mean_imputer.fit(train_X)\n",
    "mean_imputer.fit(test_X)"
   ]
  },
  {
   "cell_type": "code",
   "execution_count": 50,
   "metadata": {},
   "outputs": [],
   "source": [
    "a=mean_imputer.transform(train_X)\n",
    "b=mean_imputer.transform(test_X)"
   ]
  },
  {
   "cell_type": "code",
   "execution_count": 51,
   "metadata": {},
   "outputs": [],
   "source": [
    "c=pd.DataFrame(a)\n",
    "d=pd.DataFrame(b)"
   ]
  },
  {
   "cell_type": "code",
   "execution_count": 52,
   "metadata": {},
   "outputs": [
    {
     "data": {
      "text/plain": [
       "KNeighborsClassifier(algorithm='auto', leaf_size=30, metric='minkowski',\n",
       "                     metric_params=None, n_jobs=None, n_neighbors=5, p=2,\n",
       "                     weights='uniform')"
      ]
     },
     "execution_count": 52,
     "metadata": {},
     "output_type": "execute_result"
    }
   ],
   "source": [
    "knn.fit(c, train_y)"
   ]
  },
  {
   "cell_type": "code",
   "execution_count": 53,
   "metadata": {},
   "outputs": [
    {
     "data": {
      "text/plain": [
       "array([5, 3, 4, 2, 5, 4, 5, 1, 4, 5, 5, 3, 5, 4, 4, 4, 2, 5, 5, 3, 4, 4,\n",
       "       5, 0, 5, 4, 5, 4, 4, 3, 3, 5, 2, 5, 4, 5, 2, 3, 4, 5, 3, 2, 5, 5,\n",
       "       5, 3, 5, 5, 2, 5, 4, 0, 3, 2, 5, 0, 2, 5, 5, 2, 2, 0, 5, 4, 1, 5,\n",
       "       2, 5, 4, 3, 5, 4, 5, 5, 5, 5, 5, 1, 4, 5, 5, 5, 3, 4, 2, 5, 4, 5,\n",
       "       5, 5, 2, 5, 2, 5, 5, 4, 4, 3, 5, 4, 2, 1, 4, 3, 5, 4, 3, 5, 4, 5,\n",
       "       4, 2, 4, 4, 4, 3, 5, 5, 4, 5, 3, 5, 4, 4, 5, 3, 4, 5, 3, 4, 4, 2,\n",
       "       4, 5, 1, 3, 3, 2, 5, 5, 5, 5, 3, 4, 5, 4, 4, 5, 4, 4, 2, 5, 3, 2,\n",
       "       1, 5, 1, 5, 1, 3, 0, 2, 5, 4, 4, 5, 4, 3, 4, 5, 1, 5, 3, 2, 4, 5,\n",
       "       2, 4, 5, 3, 5, 1, 5, 4, 3, 2, 5, 4, 3, 5, 0, 5, 5, 1, 5, 5, 5, 5,\n",
       "       4, 5, 2, 4, 3, 3, 5, 1, 2, 5, 4, 5, 5, 2, 5, 5, 5, 5, 5, 1, 4, 4,\n",
       "       5, 5, 4, 4, 2, 4, 3, 3, 5, 4, 1, 2, 4, 4, 2, 5, 0, 5, 2, 5, 5, 3,\n",
       "       5, 5, 5, 5, 4, 2, 4, 2], dtype=int64)"
      ]
     },
     "execution_count": 53,
     "metadata": {},
     "output_type": "execute_result"
    }
   ],
   "source": [
    "knn.predict(d)"
   ]
  },
  {
   "cell_type": "code",
   "execution_count": 54,
   "metadata": {},
   "outputs": [
    {
     "data": {
      "text/plain": [
       "0.928"
      ]
     },
     "execution_count": 54,
     "metadata": {},
     "output_type": "execute_result"
    }
   ],
   "source": [
    "knn.score(d, test_y)"
   ]
  },
  {
   "cell_type": "code",
   "execution_count": null,
   "metadata": {},
   "outputs": [],
   "source": [
    "The last score which is 0.928 is more accurate as compare to the first score which is 0.692"
   ]
  }
 ],
 "metadata": {
  "kernelspec": {
   "display_name": "Python 3",
   "language": "python",
   "name": "python3"
  },
  "language_info": {
   "codemirror_mode": {
    "name": "ipython",
    "version": 3
   },
   "file_extension": ".py",
   "mimetype": "text/x-python",
   "name": "python",
   "nbconvert_exporter": "python",
   "pygments_lexer": "ipython3",
   "version": "3.7.6"
  }
 },
 "nbformat": 4,
 "nbformat_minor": 4
}
